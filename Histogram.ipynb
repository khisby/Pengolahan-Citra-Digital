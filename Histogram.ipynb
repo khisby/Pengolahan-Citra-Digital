{
 "cells": [
  {
   "cell_type": "markdown",
   "metadata": {},
   "source": [
    "# Soal Nomor 1\n",
    "\n",
    "##### 1.\tBuatlah histrogram dari citra dengan data berikut ini\n",
    "120\t129\t122\t121\t125\t130<br>\n",
    "124\t128\t125\t123\t129\t129<br>\n",
    "127\t123\t122\t128\t121\t125<br>\n",
    "122\t126\t124\t127\t139\t120<br>\n",
    "128\t128\t123\t120\t129\t121<br>\n",
    "128\t127\t124\t122\t121\t126<br>"
   ]
  },
  {
   "cell_type": "code",
   "execution_count": 2,
   "metadata": {},
   "outputs": [],
   "source": [
    "import numpy as np\n",
    "import matplotlib.pyplot as plt"
   ]
  },
  {
   "cell_type": "code",
   "execution_count": 4,
   "metadata": {},
   "outputs": [],
   "source": [
    "array = np.array([\n",
    "              [120, 129, 122, 121, 125, 130], \n",
    "              [124, 128, 125, 123, 129, 129],\n",
    "              [127, 123, 122, 128, 121, 125],\n",
    "              [122, 126, 124, 127, 139, 120],\n",
    "              [128, 128, 123, 120, 129, 121],\n",
    "              [128, 127, 124, 122, 121, 126]\n",
    "        ])"
   ]
  },
  {
   "cell_type": "code",
   "execution_count": 5,
   "metadata": {},
   "outputs": [
    {
     "data": {
      "text/plain": [
       "([array([1., 1., 1., 1., 2., 0., 0., 0., 0., 0.]),\n",
       "  array([0., 1., 0., 2., 3., 0., 0., 0., 0., 0.]),\n",
       "  array([0., 3., 3., 0., 0., 0., 0., 0., 0., 0.]),\n",
       "  array([2., 2., 0., 1., 1., 0., 0., 0., 0., 0.]),\n",
       "  array([2., 0., 1., 0., 2., 0., 0., 0., 0., 1.]),\n",
       "  array([2., 0., 1., 1., 1., 1., 0., 0., 0., 0.])],\n",
       " array([120. , 121.9, 123.8, 125.7, 127.6, 129.5, 131.4, 133.3, 135.2,\n",
       "        137.1, 139. ]),\n",
       " <a list of 6 Lists of Patches objects>)"
      ]
     },
     "execution_count": 5,
     "metadata": {},
     "output_type": "execute_result"
    },
    {
     "data": {
      "image/png": "[encoded data removed]",
      "text/plain": [
       "<Figure size 432x288 with 1 Axes>"
      ]
     },
     "metadata": {
      "needs_background": "light"
     },
     "output_type": "display_data"
    }
   ],
   "source": [
    "plt.hist(array)"
   ]
  },
  {
   "cell_type": "markdown",
   "metadata": {},
   "source": [
    "# Soal Nomor 2\n",
    "\n",
    "##### 2.\tBerikut ini terdapat potongan citra dengan ukuran 10x10 piksel dengan rentang nilai 0-7<br>\n",
    "7 7 7 7 7 5 5 5 5 5<br>\n",
    "7 7 7 6 6 6 6 5 5 5<br>\n",
    "5 5 5 5 5 4 4 5 5 5<br>\n",
    "3 3 3 3 4 4 4 4 5 6<br>\n",
    "4 4 4 2 2 0 0 0 0 1<br>\n",
    "5 5 6 7 7 7 7 6 6 7<br>\n",
    "4 4 3 3 4 5 5 5 6 6<br>\n",
    "7 7 7 7 7 6 7 7 7 5<br>\n",
    "6 6 6 6 7 7 7 5 5 5<br>\n",
    "4 4 4 5 5 5 6 6 6 6<br>\n",
    "<br>\n",
    "a.\tLakukanlah histogram equalization pada citra tersebut.<br>\n",
    "b.\tLakukan historgram specification pada citra tersebut dengan spesifikasi {0 : 5%, 1 : 5%, 2 : 10%, 3 : 15%, 4 : 20%, 5 : 25%, 6 : 15%, 7 : 5%}!\n",
    "\n",
    "\n"
   ]
  },
  {
   "cell_type": "code",
   "execution_count": 7,
   "metadata": {},
   "outputs": [],
   "source": [
    "ehDataAwal = np.array([\n",
    "              [7, 7, 7, 7, 7, 5, 5, 5, 5, 5],\n",
    "              [7, 7, 7, 6, 6, 6, 6, 5, 5, 5],\n",
    "              [5, 5, 5, 5, 5, 4, 4, 5, 5, 5],\n",
    "              [3, 3, 3, 3, 4, 4, 4, 4, 5, 6],\n",
    "              [4, 4, 4, 2, 2, 0, 0, 0, 0, 1],\n",
    "              [5, 5, 6, 7, 7, 7, 7, 6, 6, 7],\n",
    "              [4, 4, 3, 3, 4, 5, 5, 5, 6, 6],\n",
    "              [7, 7, 7, 7, 7, 6, 7, 7, 7, 5],\n",
    "              [6, 6, 6, 6, 7, 7, 7, 5, 5, 5],\n",
    "              [4, 4, 4, 5, 5, 5, 6, 6, 6, 6]\n",
    "            ])"
   ]
  },
  {
   "cell_type": "code",
   "execution_count": 29,
   "metadata": {},
   "outputs": [
    {
     "data": {
      "image/png": "[encoded data removed]",
      "text/plain": [
       "<Figure size 432x288 with 1 Axes>"
      ]
     },
     "metadata": {
      "needs_background": "light"
     },
     "output_type": "display_data"
    }
   ],
   "source": [
    "plt.hist(ehDataAwal,bins='auto')\n",
    "plt.title(\"Histogram Data Awal\")\n",
    "plt.show()"
   ]
  },
  {
   "cell_type": "code",
   "execution_count": 20,
   "metadata": {},
   "outputs": [
    {
     "data": {
      "text/plain": [
       "(array([ 4,  1,  2,  0,  6, 15,  0, 29, 19, 24], dtype=int64),\n",
       " array([0. , 0.7, 1.4, 2.1, 2.8, 3.5, 4.2, 4.9, 5.6, 6.3, 7. ]))"
      ]
     },
     "execution_count": 20,
     "metadata": {},
     "output_type": "execute_result"
    }
   ],
   "source": []
  },
  {
   "cell_type": "code",
   "execution_count": null,
   "metadata": {},
   "outputs": [],
   "source": []
  }
 ],
 "metadata": {
  "kernelspec": {
   "display_name": "Python 3",
   "language": "python",
   "name": "python3"
  },
  "language_info": {
   "codemirror_mode": {
    "name": "ipython",
    "version": 3
   },
   "file_extension": ".py",
   "mimetype": "text/x-python",
   "name": "python",
   "nbconvert_exporter": "python",
   "pygments_lexer": "ipython3",
   "version": "3.7.3"
  }
 },
 "nbformat": 4,
 "nbformat_minor": 2
}
