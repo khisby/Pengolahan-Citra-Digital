{
 "cells": [
  {
   "cell_type": "markdown",
   "metadata": {},
   "source": [
    "# Soal Nomor 1\n",
    "\n",
    "##### 1.\tBuatlah histrogram dari citra dengan data berikut ini\n",
    "120\t129\t122\t121\t125\t130<br>\n",
    "124\t128\t125\t123\t129\t129<br>\n",
    "127\t123\t122\t128\t121\t125<br>\n",
    "122\t126\t124\t127\t139\t120<br>\n",
    "128\t128\t123\t120\t129\t121<br>\n",
    "128\t127\t124\t122\t121\t126<br>"
   ]
  },
  {
   "cell_type": "code",
   "execution_count": 1,
   "metadata": {},
   "outputs": [],
   "source": [
    "#Import library\n",
    "import numpy as np\n",
    "import matplotlib.pyplot as plt"
   ]
  },
  {
   "cell_type": "code",
   "execution_count": 2,
   "metadata": {},
   "outputs": [
    {
     "data": {
      "text/plain": [
       "<matplotlib.image.AxesImage at 0x1745d3e9978>"
      ]
     },
     "execution_count": 2,
     "metadata": {},
     "output_type": "execute_result"
    },
    {
     "data": {
      "image/png": "[encoded data removed]",
      "text/plain": [
       "<Figure size 432x288 with 1 Axes>"
      ]
     },
     "metadata": {
      "needs_background": "light"
     },
     "output_type": "display_data"
    }
   ],
   "source": [
    "#Plotting gambar\n",
    "arr = np.array([\n",
    "              [120, 129, 122, 121, 125, 130], \n",
    "              [124, 128, 125, 123, 129, 129],\n",
    "              [127, 123, 122, 128, 121, 125],\n",
    "              [122, 126, 124, 127, 139, 120],\n",
    "              [128, 128, 123, 120, 129, 121],\n",
    "              [128, 127, 124, 122, 121, 126]\n",
    "        ])\n",
    "plt.imshow(arr)"
   ]
  },
  {
   "cell_type": "code",
   "execution_count": 3,
   "metadata": {},
   "outputs": [
    {
     "data": {
      "image/png": "[encoded data removed]",
      "text/plain": [
       "<Figure size 432x288 with 1 Axes>"
      ]
     },
     "metadata": {
      "needs_background": "light"
     },
     "output_type": "display_data"
    }
   ],
   "source": [
    "#Plotting histogram\n",
    "plt.hist(arr.flatten(),256,[0,256], color = 'green')\n",
    "plt.xlim([0,256])\n",
    "plt.title(\"Histogram Nomor 1\")\n",
    "plt.show()"
   ]
  },
  {
   "cell_type": "markdown",
   "metadata": {},
   "source": [
    "# Soal Nomor 2\n",
    "\n",
    "##### 2.\tBerikut ini terdapat potongan citra dengan ukuran 10x10 piksel dengan rentang nilai 0-7<br>\n",
    "7 7 7 7 7 5 5 5 5 5<br>\n",
    "7 7 7 6 6 6 6 5 5 5<br>\n",
    "5 5 5 5 5 4 4 5 5 5<br>\n",
    "3 3 3 3 4 4 4 4 5 6<br>\n",
    "4 4 4 2 2 0 0 0 0 1<br>\n",
    "5 5 6 7 7 7 7 6 6 7<br>\n",
    "4 4 3 3 4 5 5 5 6 6<br>\n",
    "7 7 7 7 7 6 7 7 7 5<br>\n",
    "6 6 6 6 7 7 7 5 5 5<br>\n",
    "4 4 4 5 5 5 6 6 6 6<br>\n",
    "<br>\n",
    "a.\tLakukanlah histogram equalization pada citra tersebut.<br>\n",
    "b.\tLakukan historgram specification pada citra tersebut dengan spesifikasi {0 : 5%, 1 : 5%, 2 : 10%, 3 : 15%, 4 : 20%, 5 : 25%, 6 : 15%, 7 : 5%}!\n",
    "\n",
    "\n"
   ]
  },
  {
   "cell_type": "markdown",
   "metadata": {},
   "source": [
    "# A."
   ]
  },
  {
   "cell_type": "code",
   "execution_count": 4,
   "metadata": {},
   "outputs": [
    {
     "data": {
      "text/plain": [
       "<matplotlib.image.AxesImage at 0x1745d768860>"
      ]
     },
     "execution_count": 4,
     "metadata": {},
     "output_type": "execute_result"
    },
    {
     "data": {
      "image/png": "[encoded data removed]",
      "text/plain": [
       "<Figure size 432x288 with 1 Axes>"
      ]
     },
     "metadata": {
      "needs_background": "light"
     },
     "output_type": "display_data"
    }
   ],
   "source": [
    "#Data awal dan plotting gambar\n",
    "ehDataAwal = np.array([\n",
    "              [7, 7, 7, 7, 7, 5, 5, 5, 5, 5],\n",
    "              [7, 7, 7, 6, 6, 6, 6, 5, 5, 5],\n",
    "              [5, 5, 5, 5, 5, 4, 4, 5, 5, 5],\n",
    "              [3, 3, 3, 3, 4, 4, 4, 4, 5, 6],\n",
    "              [4, 4, 4, 2, 2, 0, 0, 0, 0, 1],\n",
    "              [5, 5, 6, 7, 7, 7, 7, 6, 6, 7],\n",
    "              [4, 4, 3, 3, 4, 5, 5, 5, 6, 6],\n",
    "              [7, 7, 7, 7, 7, 6, 7, 7, 7, 5],\n",
    "              [6, 6, 6, 6, 7, 7, 7, 5, 5, 5],\n",
    "              [4, 4, 4, 5, 5, 5, 6, 6, 6, 6]\n",
    "            ])\n",
    "plt.imshow(ehDataAwal)"
   ]
  },
  {
   "cell_type": "code",
   "execution_count": 5,
   "metadata": {},
   "outputs": [
    {
     "data": {
      "image/png": "[encoded data removed]",
      "text/plain": [
       "<Figure size 432x288 with 1 Axes>"
      ]
     },
     "metadata": {
      "needs_background": "light"
     },
     "output_type": "display_data"
    }
   ],
   "source": [
    "plt.hist(ehDataAwal.flatten(),256,[0,256], color = 'green')\n",
    "plt.xlim([0,256])\n",
    "plt.title(\"Histogram Nomor 1\")\n",
    "plt.show()"
   ]
  },
  {
   "cell_type": "code",
   "execution_count": 6,
   "metadata": {},
   "outputs": [
    {
     "data": {
      "text/plain": [
       "<matplotlib.image.AxesImage at 0x1745da6f128>"
      ]
     },
     "execution_count": 6,
     "metadata": {},
     "output_type": "execute_result"
    },
    {
     "data": {
      "image/png": "[encoded data removed]",
      "text/plain": [
       "<Figure size 432x288 with 1 Axes>"
      ]
     },
     "metadata": {
      "needs_background": "light"
     },
     "output_type": "display_data"
    }
   ],
   "source": [
    "#Ambil data histogram\n",
    "hist,bins = np.histogram(ehDataAwal, 256, [0,256])\n",
    "\n",
    "#Proses histogram equalization\n",
    "cdf = hist.cumsum()\n",
    "cdf_normalized = cdf * hist.max() / cdf.max()\n",
    "cdf_m = np.ma.masked_equal(cdf, 0)\n",
    "cdf_m = (cdf_m - cdf_m.min()) * 255 / (cdf_m.max()-cdf_m.min())\n",
    "cdf = np.ma.filled(cdf_m, 0).astype('uint8')\n",
    "gambar_hasil = cdf[ehDataAwal]\n",
    "\n",
    "#Plotting gambar hasil\n",
    "plt.imshow(gambar_hasil)"
   ]
  },
  {
   "cell_type": "code",
   "execution_count": 7,
   "metadata": {},
   "outputs": [
    {
     "data": {
      "image/png": "[encoded data removed]",
      "text/plain": [
       "<Figure size 432x288 with 1 Axes>"
      ]
     },
     "metadata": {
      "needs_background": "light"
     },
     "output_type": "display_data"
    }
   ],
   "source": [
    "#Plotting hasil histogram equalization\n",
    "plt.plot(cdf_normalized, color='black')\n",
    "plt.hist(gambar_hasil.flatten(), 256, [0,256], color='green')\n",
    "plt.xlim([0,256])\n",
    "plt.legend(('cdf', 'histogram'), loc= 'upper right')\n",
    "plt.show()"
   ]
  },
  {
   "cell_type": "markdown",
   "metadata": {},
   "source": [
    "# B."
   ]
  },
  {
   "cell_type": "code",
   "execution_count": 84,
   "metadata": {},
   "outputs": [
    {
     "data": {
      "text/plain": [
       "<matplotlib.image.AxesImage at 0x1745dfcc0b8>"
      ]
     },
     "execution_count": 84,
     "metadata": {},
     "output_type": "execute_result"
    },
    {
     "data": {
      "image/png": "[encoded data removed]",
      "text/plain": [
       "<Figure size 432x288 with 1 Axes>"
      ]
     },
     "metadata": {
      "needs_background": "light"
     },
     "output_type": "display_data"
    }
   ],
   "source": [
    "esDataAwal = np.array([\n",
    "              [7, 7, 7, 7, 7, 5, 5, 5, 5, 5],\n",
    "              [7, 7, 7, 6, 6, 6, 6, 5, 5, 5],\n",
    "              [5, 5, 5, 5, 5, 4, 4, 5, 5, 5],\n",
    "              [3, 3, 3, 3, 4, 4, 4, 4, 5, 6],\n",
    "              [4, 4, 4, 2, 2, 0, 0, 0, 0, 1],\n",
    "              [5, 5, 6, 7, 7, 7, 7, 6, 6, 7],\n",
    "              [4, 4, 3, 3, 4, 5, 5, 5, 6, 6],\n",
    "              [7, 7, 7, 7, 7, 6, 7, 7, 7, 5],\n",
    "              [6, 6, 6, 6, 7, 7, 7, 5, 5, 5],\n",
    "              [4, 4, 4, 5, 5, 5, 6, 6, 6, 6]\n",
    "            ])\n",
    "\n",
    "#Data awal coba dari PPT\n",
    "# esDataAwal = np.array([\n",
    "#                 [6,6,2,2,7,7],\n",
    "#                 [6,6,5,5,7,6],\n",
    "#                 [6,0,1,1,2,2],\n",
    "#                 [7,0,1,0,2,2],\n",
    "#                 [3,0,1,0,4,2],\n",
    "#                 [6,6,3,6,1,2]\n",
    "#             ])\n",
    "\n",
    "definisiSpesifikasi = [\n",
    "                [0,5],\n",
    "                [1,5],\n",
    "                [2,10],\n",
    "                [3,10],\n",
    "                [4,25],\n",
    "                [5,5],\n",
    "                [6,25],\n",
    "                [7,15],\n",
    "            ]\n",
    "\n",
    "#kolom 1\n",
    "tabel1 = []\n",
    "length_table = esDataAwal.shape[0] * esDataAwal.shape[1]\n",
    "for i in esDataAwal.flatten():\n",
    "    if not i in tabel1:\n",
    "        tabel1.append([i])\n",
    "tabel1.sort()\n",
    "\n",
    "#kolom 2\n",
    "for i in range(0,len(tabel1)):\n",
    "    a = list(esDataAwal.flatten())\n",
    "    new_value = [tabel1[i], a.count(tabel1[i])]\n",
    "    tabel1[i] = new_value\n",
    "\n",
    "#kolom 3\n",
    "for i in range(0,len(tabel1)):\n",
    "    px = 0\n",
    "    for j in range(0,i+1):\n",
    "        px += tabel1[j][1]\n",
    "    pxudu = px / length_table\n",
    "    new_value = tabel1[i] + [pxudu]\n",
    "    tabel1[i] = new_value\n",
    "\n",
    "#Plotting gambar Awal Equalization Spesification\n",
    "plt.imshow(esDataAwal)"
   ]
  },
  {
   "cell_type": "code",
   "execution_count": 92,
   "metadata": {},
   "outputs": [
    {
     "data": {
      "image/png": "[encoded data removed]",
      "text/plain": [
       "<Figure size 432x288 with 1 Axes>"
      ]
     },
     "metadata": {
      "needs_background": "light"
     },
     "output_type": "display_data"
    }
   ],
   "source": [
    "#Plotting histogram Awal Equalization Spesification\n",
    "plt.hist(esDataAwal.flatten(),256,[0,256], color = 'green')\n",
    "plt.xlim([0,256])\n",
    "plt.title(\"Histogram Nomor 2.A Hasil Awal Equalization Spesification\")\n",
    "plt.show()"
   ]
  },
  {
   "cell_type": "code",
   "execution_count": 10,
   "metadata": {},
   "outputs": [],
   "source": [
    "tabel2 = []\n",
    "#kolom 1 dan 2\n",
    "for i in range(0,len(definisiSpesifikasi)):\n",
    "    z = definisiSpesifikasi[i][0]\n",
    "    pz = definisiSpesifikasi[i][1]/100\n",
    "    tabel2.append([z,pz])\n",
    "\n",
    "#kolom 3\n",
    "for i in range(0, len(tabel2)):\n",
    "    pzudu = 0\n",
    "    for j in range(0,i+1):\n",
    "        pzudu += tabel2[j][1]\n",
    "    tabel2[i] = tabel2[i] + [pzudu]\n",
    "    "
   ]
  },
  {
   "cell_type": "code",
   "execution_count": 41,
   "metadata": {},
   "outputs": [],
   "source": [
    "tabel3 = []\n",
    "for i in esDataAwal.flatten():\n",
    "    if not i in tabel3:\n",
    "        tabel3.append([i])\n",
    "tabel3.sort()"
   ]
  },
  {
   "cell_type": "code",
   "execution_count": 44,
   "metadata": {},
   "outputs": [],
   "source": [
    "for i in range(0,len(tabel1)):\n",
    "    kiri = tabel1[i][2]\n",
    "    cari_terdekat = tabel2[np.abs(np.asarray([a[2] for a in tabel2])-kiri).argmin()]\n",
    "    kanan = cari_terdekat[2]\n",
    "    z = cari_terdekat[0]\n",
    "    tengah = str(kiri) + ' = ' + str(kanan) \n",
    "    new_value = [tabel3[i], tengah, z] \n",
    "    tabel3[i] = new_value"
   ]
  },
  {
   "cell_type": "code",
   "execution_count": 45,
   "metadata": {},
   "outputs": [
    {
     "data": {
      "text/plain": [
       "[[[0], '0.1388888888888889 = 0.1', 1],\n",
       " [[1], '0.2777777777777778 = 0.30000000000000004', 3],\n",
       " [[2], '0.5 = 0.55', 4],\n",
       " [[3], '0.5555555555555556 = 0.55', 4],\n",
       " [[4], '0.5833333333333334 = 0.6000000000000001', 5],\n",
       " [[5], '0.6388888888888888 = 0.6000000000000001', 5],\n",
       " [[6], '0.8888888888888888 = 0.8500000000000001', 6],\n",
       " [[7], '1.0 = 1.0', 7]]"
      ]
     },
     "execution_count": 45,
     "metadata": {},
     "output_type": "execute_result"
    }
   ],
   "source": [
    "esDataAkhir = esDataA[:]\n",
    "for i in range(0, len(esDataAkhir)):\n",
    "    for j in range(0, len(esDataAkhir[i])):\n",
    "        esDataAkhir[i][j] = tabel3[]"
   ]
  },
  {
   "cell_type": "code",
   "execution_count": 78,
   "metadata": {},
   "outputs": [],
   "source": [
    "esDataAkhir = np.array(esDataAwal[:])\n",
    "for i in range(0,len(esDataAkhir)):\n",
    "    for j in range(0, len(esDataAkhir[i])):\n",
    "        index = -1;\n",
    "        for jj in range(0,len(tabel3)):\n",
    "            if esDataAkhir[i][j] == tabel3[jj][0]:\n",
    "                index = jj\n",
    "        esDataAkhir[i][j] = tabel3[index][2]"
   ]
  },
  {
   "cell_type": "code",
   "execution_count": 89,
   "metadata": {},
   "outputs": [
    {
     "data": {
      "text/plain": [
       "<matplotlib.image.AxesImage at 0x1745db66748>"
      ]
     },
     "execution_count": 89,
     "metadata": {},
     "output_type": "execute_result"
    },
    {
     "data": {
      "image/png": "[encoded data removed]",
      "text/plain": [
       "<Figure size 432x288 with 1 Axes>"
      ]
     },
     "metadata": {
      "needs_background": "light"
     },
     "output_type": "display_data"
    }
   ],
   "source": [
    "#Plotting gambar Akhir Equalization Spesification\n",
    "plt.imshow(esDataAkhir)"
   ]
  },
  {
   "cell_type": "code",
   "execution_count": 91,
   "metadata": {},
   "outputs": [
    {
     "data": {
      "image/png": "[encoded data removed]",
      "text/plain": [
       "<Figure size 432x288 with 1 Axes>"
      ]
     },
     "metadata": {
      "needs_background": "light"
     },
     "output_type": "display_data"
    }
   ],
   "source": [
    "plt.hist(esDataAkhir.flatten(),256,[0,256], color = 'green')\n",
    "plt.xlim([0,256])\n",
    "plt.title(\"Histogram Nomor 2.A Hasil Akhir Equalization Spesification\")\n",
    "plt.show()"
   ]
  },
  {
   "cell_type": "code",
   "execution_count": null,
   "metadata": {},
   "outputs": [],
   "source": []
  }
 ],
 "metadata": {
  "kernelspec": {
   "display_name": "Python 3",
   "language": "python",
   "name": "python3"
  },
  "language_info": {
   "codemirror_mode": {
    "name": "ipython",
    "version": 3
   },
   "file_extension": ".py",
   "mimetype": "text/x-python",
   "name": "python",
   "nbconvert_exporter": "python",
   "pygments_lexer": "ipython3",
   "version": "3.7.3"
  }
 },
 "nbformat": 4,
 "nbformat_minor": 2
}
