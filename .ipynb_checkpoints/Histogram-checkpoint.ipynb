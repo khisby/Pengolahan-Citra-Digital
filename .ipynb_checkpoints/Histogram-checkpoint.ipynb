{
 "cells": [
  {
   "cell_type": "markdown",
   "metadata": {},
   "source": [
    "# Soal Nomor 1\n",
    "\n",
    "##### 1.\tBuatlah histrogram dari citra dengan data berikut ini\n",
    "120\t129\t122\t121\t125\t130<br>\n",
    "124\t128\t125\t123\t129\t129<br>\n",
    "127\t123\t122\t128\t121\t125<br>\n",
    "122\t126\t124\t127\t139\t120<br>\n",
    "128\t128\t123\t120\t129\t121<br>\n",
    "128\t127\t124\t122\t121\t126<br>"
   ]
  },
  {
   "cell_type": "code",
   "execution_count": 81,
   "metadata": {},
   "outputs": [],
   "source": [
    "#Import library\n",
    "import numpy as np\n",
    "import matplotlib.pyplot as plt"
   ]
  },
  {
   "cell_type": "code",
   "execution_count": 80,
   "metadata": {},
   "outputs": [
    {
     "data": {
      "text/plain": [
       "<matplotlib.image.AxesImage at 0x2245c4f8240>"
      ]
     },
     "execution_count": 80,
     "metadata": {},
     "output_type": "execute_result"
    },
    {
     "data": {
      "image/png": "[encoded data removed]",
      "text/plain": [
       "<Figure size 432x288 with 1 Axes>"
      ]
     },
     "metadata": {
      "needs_background": "light"
     },
     "output_type": "display_data"
    }
   ],
   "source": [
    "#Plotting gambar\n",
    "arr = np.array([\n",
    "              [120, 129, 122, 121, 125, 130], \n",
    "              [124, 128, 125, 123, 129, 129],\n",
    "              [127, 123, 122, 128, 121, 125],\n",
    "              [122, 126, 124, 127, 139, 120],\n",
    "              [128, 128, 123, 120, 129, 121],\n",
    "              [128, 127, 124, 122, 121, 126]\n",
    "        ])\n",
    "plt.imshow(arr)"
   ]
  },
  {
   "cell_type": "code",
   "execution_count": 79,
   "metadata": {},
   "outputs": [
    {
     "data": {
      "image/png": "[encoded data removed]",
      "text/plain": [
       "<Figure size 432x288 with 1 Axes>"
      ]
     },
     "metadata": {
      "needs_background": "light"
     },
     "output_type": "display_data"
    }
   ],
   "source": [
    "#Plotting histogram\n",
    "plt.hist(arr.flatten(),256,[0,256], color = 'green')\n",
    "plt.xlim([0,256])\n",
    "plt.title(\"Histogram Nomor 1\")\n",
    "plt.show()"
   ]
  },
  {
   "cell_type": "markdown",
   "metadata": {},
   "source": [
    "# Soal Nomor 2\n",
    "\n",
    "##### 2.\tBerikut ini terdapat potongan citra dengan ukuran 10x10 piksel dengan rentang nilai 0-7<br>\n",
    "7 7 7 7 7 5 5 5 5 5<br>\n",
    "7 7 7 6 6 6 6 5 5 5<br>\n",
    "5 5 5 5 5 4 4 5 5 5<br>\n",
    "3 3 3 3 4 4 4 4 5 6<br>\n",
    "4 4 4 2 2 0 0 0 0 1<br>\n",
    "5 5 6 7 7 7 7 6 6 7<br>\n",
    "4 4 3 3 4 5 5 5 6 6<br>\n",
    "7 7 7 7 7 6 7 7 7 5<br>\n",
    "6 6 6 6 7 7 7 5 5 5<br>\n",
    "4 4 4 5 5 5 6 6 6 6<br>\n",
    "<br>\n",
    "a.\tLakukanlah histogram equalization pada citra tersebut.<br>\n",
    "b.\tLakukan historgram specification pada citra tersebut dengan spesifikasi {0 : 5%, 1 : 5%, 2 : 10%, 3 : 15%, 4 : 20%, 5 : 25%, 6 : 15%, 7 : 5%}!\n",
    "\n",
    "\n"
   ]
  },
  {
   "cell_type": "markdown",
   "metadata": {},
   "source": [
    "# A."
   ]
  },
  {
   "cell_type": "code",
   "execution_count": 77,
   "metadata": {},
   "outputs": [
    {
     "data": {
      "text/plain": [
       "<matplotlib.image.AxesImage at 0x2245b99d898>"
      ]
     },
     "execution_count": 77,
     "metadata": {},
     "output_type": "execute_result"
    },
    {
     "data": {
      "image/png": "[encoded data removed]",
      "text/plain": [
       "<Figure size 432x288 with 1 Axes>"
      ]
     },
     "metadata": {
      "needs_background": "light"
     },
     "output_type": "display_data"
    }
   ],
   "source": [
    "#Data awal dan plotting gambar\n",
    "ehDataAwal = np.array([\n",
    "              [7, 7, 7, 7, 7, 5, 5, 5, 5, 5],\n",
    "              [7, 7, 7, 6, 6, 6, 6, 5, 5, 5],\n",
    "              [5, 5, 5, 5, 5, 4, 4, 5, 5, 5],\n",
    "              [3, 3, 3, 3, 4, 4, 4, 4, 5, 6],\n",
    "              [4, 4, 4, 2, 2, 0, 0, 0, 0, 1],\n",
    "              [5, 5, 6, 7, 7, 7, 7, 6, 6, 7],\n",
    "              [4, 4, 3, 3, 4, 5, 5, 5, 6, 6],\n",
    "              [7, 7, 7, 7, 7, 6, 7, 7, 7, 5],\n",
    "              [6, 6, 6, 6, 7, 7, 7, 5, 5, 5],\n",
    "              [4, 4, 4, 5, 5, 5, 6, 6, 6, 6]\n",
    "            ])\n",
    "plt.imshow(ehDataAwal)"
   ]
  },
  {
   "cell_type": "code",
   "execution_count": 71,
   "metadata": {},
   "outputs": [
    {
     "data": {
      "image/png": "[encoded data removed]",
      "text/plain": [
       "<Figure size 432x288 with 1 Axes>"
      ]
     },
     "metadata": {
      "needs_background": "light"
     },
     "output_type": "display_data"
    }
   ],
   "source": [
    "plt.hist(ehDataAwal.flatten(),256,[0,256], color = 'green')\n",
    "plt.xlim([0,256])\n",
    "plt.title(\"Histogram Nomor 1\")\n",
    "plt.show()"
   ]
  },
  {
   "cell_type": "code",
   "execution_count": 75,
   "metadata": {},
   "outputs": [
    {
     "data": {
      "text/plain": [
       "<matplotlib.image.AxesImage at 0x2245b87a160>"
      ]
     },
     "execution_count": 75,
     "metadata": {},
     "output_type": "execute_result"
    },
    {
     "data": {
      "image/png": "[encoded data removed]",
      "text/plain": [
       "<Figure size 432x288 with 1 Axes>"
      ]
     },
     "metadata": {
      "needs_background": "light"
     },
     "output_type": "display_data"
    }
   ],
   "source": [
    "#Ambil data histogram\n",
    "hist,bins = np.histogram(ehDataAwal, 256, [0,256])\n",
    "\n",
    "#Proses histogram equalization\n",
    "cdf = hist.cumsum()\n",
    "cdf_m = np.ma.masked_equal(cdf, 0)\n",
    "cdf_m = (cdf_m - cdf_m.min()) * 255 / (cdf_m.max()-cdf_m.min())\n",
    "cdf = np.ma.filled(cdf_m, 0).astype('uint8')\n",
    "gambar_hasil = cdf[ehDataAwal]\n",
    "\n",
    "#Plotting gambar hasil\n",
    "plt.imshow(gambar_hasil)"
   ]
  },
  {
   "cell_type": "code",
   "execution_count": 76,
   "metadata": {},
   "outputs": [
    {
     "data": {
      "image/png": "[encoded data removed]",
      "text/plain": [
       "<Figure size 432x288 with 1 Axes>"
      ]
     },
     "metadata": {
      "needs_background": "light"
     },
     "output_type": "display_data"
    }
   ],
   "source": [
    "#Plotting hasil histogram equalization\n",
    "plt.plot(cdf_normalized, color='black')\n",
    "plt.hist(gambar_hasil.flatten(), 256, [0,256], color='green')\n",
    "plt.xlim([0,256])\n",
    "plt.legend(('cdf', 'histogram'), loc= 'upper right')\n",
    "plt.show()"
   ]
  },
  {
   "cell_type": "markdown",
   "metadata": {},
   "source": [
    "# B."
   ]
  },
  {
   "cell_type": "code",
   "execution_count": null,
   "metadata": {},
   "outputs": [],
   "source": []
  }
 ],
 "metadata": {
  "kernelspec": {
   "display_name": "Python 3",
   "language": "python",
   "name": "python3"
  },
  "language_info": {
   "codemirror_mode": {
    "name": "ipython",
    "version": 3
   },
   "file_extension": ".py",
   "mimetype": "text/x-python",
   "name": "python",
   "nbconvert_exporter": "python",
   "pygments_lexer": "ipython3",
   "version": "3.7.3"
  }
 },
 "nbformat": 4,
 "nbformat_minor": 2
}
